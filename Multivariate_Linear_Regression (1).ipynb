{
 "cells": [
  {
   "cell_type": "markdown",
   "metadata": {
    "id": "fM1tzPvICydP"
   },
   "source": [
    "**Press shift+enter to execute a cell**"
   ]
  },
  {
   "cell_type": "code",
   "execution_count": 2,
   "metadata": {
    "id": "k77xaJfA-epq"
   },
   "outputs": [],
   "source": [
    "%matplotlib inline\n",
    "from IPython.display import HTML\n",
    "from numpy import *\n",
    "import matplotlib.pyplot as plt\n",
    "import pandas as pd\n",
    "from copy import copy, deepcopy"
   ]
  },
  {
   "cell_type": "markdown",
   "metadata": {
    "id": "v8NSLCXfIE13"
   },
   "source": [
    "#### Download dataset to colab"
   ]
  },
  {
   "cell_type": "code",
   "execution_count": 3,
   "metadata": {
    "colab": {
     "base_uri": "https://localhost:8080/"
    },
    "id": "-wPsqGPFIUn4",
    "outputId": "24163c13-fa9a-4ff4-ef4c-d7e2e3f96e51"
   },
   "outputs": [
    {
     "name": "stderr",
     "output_type": "stream",
     "text": [
      "'ls' is not recognized as an internal or external command,\n",
      "operable program or batch file.\n"
     ]
    }
   ],
   "source": [
    "!ls"
   ]
  },
  {
   "cell_type": "code",
   "execution_count": 4,
   "metadata": {
    "colab": {
     "base_uri": "https://localhost:8080/"
    },
    "id": "FIdjicszDkAf",
    "outputId": "c4beebf4-25e9-4a35-d0a0-711a4cca1b5b"
   },
   "outputs": [
    {
     "data": {
      "text/plain": [
       "('winequality-red.csv', <http.client.HTTPMessage at 0x1e4a0d55850>)"
      ]
     },
     "execution_count": 4,
     "metadata": {},
     "output_type": "execute_result"
    }
   ],
   "source": [
    "import urllib.request\n",
    "urllib.request.urlretrieve(\"https://archive.ics.uci.edu/ml/machine-learning-databases/wine-quality/winequality-red.csv\", \"winequality-red.csv\")"
   ]
  },
  {
   "cell_type": "code",
   "execution_count": 4,
   "metadata": {
    "colab": {
     "base_uri": "https://localhost:8080/"
    },
    "id": "FcjydmnBEn2O",
    "outputId": "b2947c1f-77b6-443f-e1ec-51264ebd3287"
   },
   "outputs": [
    {
     "name": "stdout",
     "output_type": "stream",
     "text": [
      "sample_data  winequality-red.csv\n"
     ]
    }
   ],
   "source": [
    "!ls"
   ]
  },
  {
   "cell_type": "markdown",
   "metadata": {
    "id": "ZU4LfMDe-ept"
   },
   "source": [
    "#### Import the data\n"
   ]
  },
  {
   "cell_type": "code",
   "execution_count": 9,
   "metadata": {
    "id": "E9HoBdK3-epu"
   },
   "outputs": [],
   "source": [
    "adata = genfromtxt('winequality-red.csv', delimiter=';')\n",
    "#normailze data\n",
    "data=(adata[1:,:]-adata[1:,:].mean())/adata[1:,:].std()\n",
    "# data=adata[1:,:]\n",
    "# print(normdata)\n",
    "variableCount=len(array(data[0,:]))-1\n",
    "#Extract columns\n",
    "xtheta=[]\n",
    "y = array(data[:,variableCount])\n",
    "for i in range(0,variableCount):\n",
    "  xtheta.append((data[:,i]))\n",
    "#print(xtheta)\n"
   ]
  },
  {
   "cell_type": "markdown",
   "metadata": {
    "id": "-9jBqpSy-epx"
   },
   "source": [
    "#### Defining the hyperparamters"
   ]
  },
  {
   "cell_type": "code",
   "execution_count": 6,
   "metadata": {
    "id": "VgOidX2L-epy"
   },
   "outputs": [],
   "source": [
    "#hyperparamters\n",
    "# learning_rate = 0.0001\n",
    "learning_rate = 0.1\n",
    "\n",
    "initial_m = [0]*(variableCount+1)\n",
    "# print(initial_m)\n",
    "num_iterations = 50\n",
    "#print(array(data[1, 0:variableCount-1]))\n"
   ]
  },
  {
   "cell_type": "markdown",
   "metadata": {
    "id": "n2FOk0Nc-ep1"
   },
   "source": [
    "#### Define cost function"
   ]
  },
  {
   "cell_type": "code",
   "execution_count": 7,
   "metadata": {
    "colab": {
     "base_uri": "https://localhost:8080/"
    },
    "id": "kiXWph9g-ep1",
    "outputId": "c7e566bb-1882-4056-c3ad-0cad0241c44c"
   },
   "outputs": [
    {
     "name": "stdout",
     "output_type": "stream",
     "text": [
      "[-0.00786202 -0.43952543 -0.49441905 -0.33223337 -0.48830589  1.06505859\n",
      "  3.68498102 -0.43223955 -0.29480591 -0.45200125  0.11689619]\n",
      "-0.18252351837442135\n",
      "11\n"
     ]
    }
   ],
   "source": [
    "print((data[1, 0:variableCount]))\n",
    "print((data[1, variableCount]))\n",
    "print(variableCount)\n",
    "def compute_cost(ms, data):\n",
    "    total_cost = 0\n",
    "    \n",
    "    # number of datapoints in training data\n",
    "    N = float(len(data))\n",
    "    \n",
    "    # Compute sum of squared errors\n",
    "    \n",
    "    for i in range(0, len(data)):\n",
    "        xi = array(data[i, 0:variableCount])\n",
    "\n",
    "        y = data[i, variableCount]\n",
    "        mx=0\n",
    "        for index in range(0,len(xi)):\n",
    "          x=xi[index]\n",
    "          mx+= (x*ms[index+1])\n",
    "        \n",
    "        total_cost += (y - (mx + ms[0])) ** 2\n",
    "        \n",
    "    # Return average of squared error\n",
    "    return total_cost/(2*N)"
   ]
  },
  {
   "cell_type": "markdown",
   "metadata": {
    "id": "tSObpG-b-ep4"
   },
   "source": [
    "#### Define Gradient Descent functions"
   ]
  },
  {
   "cell_type": "code",
   "execution_count": 8,
   "metadata": {
    "id": "z7dQ8n5m-ep5"
   },
   "outputs": [],
   "source": [
    "def step_gradient(ms, data, alpha):\n",
    "    \n",
    "    m_gradient = [0]*(variableCount+1)\n",
    "    N = float(len(data))\n",
    "\n",
    "    # Calculate Gradient\n",
    "    for i in range(0, len(data)):\n",
    "        xi = data[i, 0:variableCount]\n",
    "        y = data[i, variableCount]\n",
    "\n",
    "        mx=ms[0]\n",
    "        for index in range(0,len(xi)):\n",
    "          x=xi[index]\n",
    "          mx+= (x*ms[index+1])\n",
    "        ymx=y-mx\n",
    "\n",
    "        m_gradient[0]+= (-(1/N) * ymx)\n",
    "        for index in range(0,len(xi)):\n",
    "          x=xi[index]\n",
    "          m_gradient[index+1]+= (-(1/N) * x * ymx)\n",
    "        \n",
    "    m_updated = [0]*(variableCount+1)\n",
    "    for index in range(0,len(ms)):\n",
    "      m=ms[index]\n",
    "      m_updated[index]= m-alpha*m_gradient[index]\n",
    "\n",
    "    #Return updated parameters\n",
    "    return m_updated\n",
    "\n",
    "def gradient_descent(data, ms, learning_rate, num_iterations):\n",
    "    \n",
    "    # to store the cost after each iteration\n",
    "    cost_graph = []\n",
    "    \n",
    "    # to store the value of b -> bias unit, m-> slope of line after each iteration (pred = m*x + b)\n",
    "    b_progress = []\n",
    "    m_progress = []\n",
    "    # ms_progress = []\n",
    "    \n",
    "    # For every iteration, optimize b, m and compute its cost\n",
    "    for i in range(num_iterations):\n",
    "        cost_graph.append(compute_cost(ms, data))\n",
    "        ms = step_gradient(ms, array(data), learning_rate)\n",
    "        b_progress.append(ms[0])\n",
    "        m_progress.append(ms[1:])\n",
    "        \n",
    "    return [ ms, cost_graph,b_progress,m_progress]"
   ]
  },
  {
   "cell_type": "markdown",
   "metadata": {
    "id": "5v-y-qI3-ep7"
   },
   "source": [
    "#### Run gradient_descent() to get optimized parameters b and m"
   ]
  },
  {
   "cell_type": "code",
   "execution_count": 9,
   "metadata": {
    "colab": {
     "base_uri": "https://localhost:8080/"
    },
    "id": "WV6KIdPq-ep7",
    "outputId": "b1e2b2ef-07ef-4482-a041-f676209ebc57"
   },
   "outputs": [
    {
     "name": "stdout",
     "output_type": "stream",
     "text": [
      "Optimized theta values: [-0.05683443852450764, 0.0005874955088461611, 0.025226519379391528, 0.027872269105748488, 0.020704032563716918, 0.02770630436233052, 0.007386777962811396, -0.0066732946067380615, 0.024561689445891613, 0.01614656695634387, 0.02647227198071, -0.0023956419650682376]\n",
      "Minimized cost: 0.0012130179431041456\n"
     ]
    }
   ],
   "source": [
    "ms, cost_graph,b_progress,m_progress = gradient_descent(data, initial_m, learning_rate, num_iterations)\n",
    "\n",
    "#Print optimized parameters\n",
    "print ('Optimized theta values:', ms)\n",
    "\n",
    "#Print error with optimized parameters\n",
    "print ('Minimized cost:', compute_cost(ms, data))"
   ]
  },
  {
   "cell_type": "markdown",
   "metadata": {
    "id": "wnmqepye-ep_"
   },
   "source": [
    "#### Plotting the cost per iterations"
   ]
  },
  {
   "cell_type": "code",
   "execution_count": 10,
   "metadata": {
    "colab": {
     "base_uri": "https://localhost:8080/",
     "height": 295
    },
    "id": "x1VREIE7-eqA",
    "outputId": "85e53735-bb00-457c-fed6-df99d22b3b6a"
   },
   "outputs": [
    {
     "data": {
      "image/png": "[encoded data removed]",
      "text/plain": [
       "<Figure size 432x288 with 1 Axes>"
      ]
     },
     "metadata": {
      "needs_background": "light"
     },
     "output_type": "display_data"
    }
   ],
   "source": [
    "plt.plot(cost_graph)\n",
    "plt.xlabel('No. of iterations')\n",
    "plt.ylabel('Cost')\n",
    "plt.title('Cost per iteration')\n",
    "plt.show()"
   ]
  },
  {
   "cell_type": "code",
   "execution_count": null,
   "metadata": {
    "id": "R1tuti9S7o8Z"
   },
   "outputs": [],
   "source": [
    "#testing predictions\n",
    "# y=ms[0]\n",
    "# for i in range(1,len(ms)):\n",
    "#   y+=(ms[i]*data[215,i-1])\n",
    "# print(y)"
   ]
  }
 ],
 "metadata": {
  "colab": {
   "collapsed_sections": [],
   "name": "Multivariate_Linear_Regression.ipynb",
   "provenance": []
  },
  "kernelspec": {
   "display_name": "Python 3",
   "language": "python",
   "name": "python3"
  },
  "language_info": {
   "codemirror_mode": {
    "name": "ipython",
    "version": 3
   },
   "file_extension": ".py",
   "mimetype": "text/x-python",
   "name": "python",
   "nbconvert_exporter": "python",
   "pygments_lexer": "ipython3",
   "version": "3.8.5"
  }
 },
 "nbformat": 4,
 "nbformat_minor": 1
}
